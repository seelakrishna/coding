{
  "nbformat": 4,
  "nbformat_minor": 0,
  "metadata": {
    "colab": {
      "provenance": [],
      "toc_visible": true
    },
    "kernelspec": {
      "name": "python3",
      "display_name": "Python 3"
    },
    "language_info": {
      "name": "python"
    }
  },
  "cells": [
    {
      "cell_type": "code",
      "execution_count": null,
      "metadata": {
        "colab": {
          "base_uri": "https://localhost:8080/"
        },
        "id": "enaotMhSfCOo",
        "outputId": "edd41e48-e8c1-4b00-cf7c-000cf4087626"
      },
      "outputs": [
        {
          "output_type": "stream",
          "name": "stdout",
          "text": [
            "6\n",
            "110\n"
          ]
        }
      ],
      "source": [
        "#functio with keyword args\n",
        "def result(*args):\n",
        "  return sum(args)\n",
        "print(result(1,2,3))\n",
        "print(result(11,22,33,44))"
      ]
    },
    {
      "cell_type": "code",
      "source": [
        "#function with keyword args**\n",
        "def info(**kwargs):\n",
        "  for key,value in kwargs.items():\n",
        "    print(key,value)\n",
        "info(name=\"Vijay\",age=33,city=\"Mumbai\")"
      ],
      "metadata": {
        "colab": {
          "base_uri": "https://localhost:8080/"
        },
        "id": "NX4yCHMhfaRQ",
        "outputId": "01b40d51-fde3-483f-edd2-ea9e3263649a"
      },
      "execution_count": null,
      "outputs": [
        {
          "output_type": "stream",
          "name": "stdout",
          "text": [
            "name Vijay\n",
            "age 33\n",
            "city Mumbai\n"
          ]
        }
      ]
    },
    {
      "cell_type": "code",
      "source": [
        "#lambda fun\n",
        "sq=lambda x:x*x\n",
        "print(sq(5))\n",
        "add=lambda x,y:x+y\n",
        "print(add(3,5))"
      ],
      "metadata": {
        "colab": {
          "base_uri": "https://localhost:8080/"
        },
        "id": "OldEQW4ihK8Q",
        "outputId": "0203cb1b-57c8-4b1a-e60d-b86ad6f4b29a"
      },
      "execution_count": null,
      "outputs": [
        {
          "output_type": "stream",
          "name": "stdout",
          "text": [
            "25\n",
            "8\n"
          ]
        }
      ]
    },
    {
      "cell_type": "code",
      "source": [
        "'''write a programm to return n number of multiple values where passing a list of 1 to 5 elements\n",
        "return the min max and avg in a single function'''\n",
        "def numbers(*args):\n",
        "  return min(args),max(args),sum(args)/len(args)\n",
        "print(numbers(1,2,3,4,5))"
      ],
      "metadata": {
        "colab": {
          "base_uri": "https://localhost:8080/"
        },
        "id": "dPxyCsFehprf",
        "outputId": "94608acb-6bed-4c74-a528-7632627255f9"
      },
      "execution_count": null,
      "outputs": [
        {
          "output_type": "stream",
          "name": "stdout",
          "text": [
            "(1, 5, 3.0)\n"
          ]
        }
      ]
    },
    {
      "cell_type": "code",
      "source": [
        "#direct recursion fact/non tail/head\n",
        "def fact(n):\n",
        "  if n==0 or n==1:\n",
        "    return 1\n",
        "  else:\n",
        "    return n*fact(n-1)\n",
        "print(fact(5))"
      ],
      "metadata": {
        "colab": {
          "base_uri": "https://localhost:8080/"
        },
        "id": "PO39v4uvkS6J",
        "outputId": "c7c0bad9-6633-45d2-a578-62fa452b0fe7"
      },
      "execution_count": null,
      "outputs": [
        {
          "output_type": "stream",
          "name": "stdout",
          "text": [
            "120\n"
          ]
        }
      ]
    },
    {
      "cell_type": "code",
      "source": [
        "#indirect\n",
        "def e(n):\n",
        "  if n==0:\n",
        "    return True\n",
        "  return o(n-1)\n",
        "def o(n):\n",
        "  if n==0:\n",
        "    return False\n",
        "  return e(n-1)\n",
        "print(e(4))\n",
        "print(o(3))"
      ],
      "metadata": {
        "colab": {
          "base_uri": "https://localhost:8080/"
        },
        "id": "DhTEVZVlpkoI",
        "outputId": "0c832d0c-788b-4db9-b632-df964ba5a25a"
      },
      "execution_count": null,
      "outputs": [
        {
          "output_type": "stream",
          "name": "stdout",
          "text": [
            "True\n",
            "True\n"
          ]
        }
      ]
    },
    {
      "cell_type": "code",
      "source": [
        "#tail\n",
        "def fact(n,t=1):\n",
        "  if n==0 or n==1:\n",
        "    return\n",
        "    return fact(n-1,n*t)\n",
        "print(fact(5))"
      ],
      "metadata": {
        "colab": {
          "base_uri": "https://localhost:8080/"
        },
        "id": "VhImvN7irkQu",
        "outputId": "b4b748d2-1945-4509-82f0-6dc60866dbd3"
      },
      "execution_count": null,
      "outputs": [
        {
          "output_type": "stream",
          "name": "stdout",
          "text": [
            "None\n"
          ]
        }
      ]
    },
    {
      "cell_type": "code",
      "source": [
        "#linear rec\n",
        "def total(n):\n",
        "  if n<=0:\n",
        "    return 0\n",
        "  return n+total(n-1)\n",
        "print(total(10))"
      ],
      "metadata": {
        "colab": {
          "base_uri": "https://localhost:8080/"
        },
        "id": "5w6X4Ak4tyGI",
        "outputId": "cfe294d6-2c86-40c5-e2ef-75081ba87532"
      },
      "execution_count": null,
      "outputs": [
        {
          "output_type": "stream",
          "name": "stdout",
          "text": [
            "55\n"
          ]
        }
      ]
    },
    {
      "cell_type": "code",
      "source": [
        "#nested recursion super fact\n",
        "def sfact(n):\n",
        "  if n<=0:\n",
        "    return 1\n",
        "  return fact(n) * sfact(n-1)\n",
        "def fact(n):\n",
        "  if n<=1:\n",
        "    return 1\n",
        "  return n *fact(n-1)\n",
        "print(sfact(4))\n",
        "print(sfact(3))"
      ],
      "metadata": {
        "colab": {
          "base_uri": "https://localhost:8080/"
        },
        "id": "HnWe69OwwkW4",
        "outputId": "fb17c8e4-b574-4445-ea42-e987bf962cf7"
      },
      "execution_count": null,
      "outputs": [
        {
          "output_type": "stream",
          "name": "stdout",
          "text": [
            "288\n",
            "12\n"
          ]
        }
      ]
    },
    {
      "cell_type": "code",
      "source": [
        "def pt(a,n):\n",
        "  if n==1:\n",
        "    return a\n",
        "  return a**pt(a,n-1)\n",
        "print(pt(2,4))\n",
        "print(pt(3,2))"
      ],
      "metadata": {
        "colab": {
          "base_uri": "https://localhost:8080/"
        },
        "id": "uGXPhICY7VP5",
        "outputId": "4c9537ab-4ccb-41c1-faf7-7429a09348a2"
      },
      "execution_count": null,
      "outputs": [
        {
          "output_type": "stream",
          "name": "stdout",
          "text": [
            "65536\n",
            "27\n"
          ]
        }
      ]
    },
    {
      "cell_type": "markdown",
      "source": [
        "***oops concepts***"
      ],
      "metadata": {
        "id": "W5B7K1Z_6HzE"
      }
    },
    {
      "cell_type": "code",
      "source": [
        "class dog:\n",
        "  def bark(self):\n",
        "    print(\"german shepard\")\n",
        "    print(\"bow bow\")\n",
        "animal=dog()\n",
        "animal.bark()"
      ],
      "metadata": {
        "colab": {
          "base_uri": "https://localhost:8080/"
        },
        "id": "aHa_Ks1Z6Tis",
        "outputId": "2e8de6bf-e6aa-47c2-97a3-fb4a31720ebd"
      },
      "execution_count": null,
      "outputs": [
        {
          "output_type": "stream",
          "name": "stdout",
          "text": [
            "german shepard\n",
            "bow bow\n"
          ]
        }
      ]
    },
    {
      "cell_type": "code",
      "source": [
        "class boy:\n",
        "  def set_name(self,name):\n",
        "    self.name=name\n",
        "  def get_name(self):\n",
        "    return self.name\n",
        "s=boy()\n",
        "s.set_name(\"krishna\")\n",
        "print(s.get_name())\n"
      ],
      "metadata": {
        "colab": {
          "base_uri": "https://localhost:8080/"
        },
        "id": "54pTIAps7Zkl",
        "outputId": "48453bb1-030a-4b59-f9ad-32973a1cf14e"
      },
      "execution_count": null,
      "outputs": [
        {
          "output_type": "stream",
          "name": "stdout",
          "text": [
            "krishna\n"
          ]
        }
      ]
    },
    {
      "cell_type": "code",
      "source": [
        "#a.o by using a class obj instance\n",
        "\n",
        "class calc:\n",
        "  def add(self,a,b):\n",
        "    return a+b\n",
        "  def mul(self,a,b):\n",
        "    return a*b\n",
        "c=calc()\n",
        "print(c.add(10,4))\n",
        "print(c.mul(4,4))"
      ],
      "metadata": {
        "colab": {
          "base_uri": "https://localhost:8080/"
        },
        "id": "1GJTXgCS-9av",
        "outputId": "471a0e64-ff12-46db-a668-b86750c7d8b0"
      },
      "execution_count": null,
      "outputs": [
        {
          "output_type": "stream",
          "name": "stdout",
          "text": [
            "14\n",
            "16\n"
          ]
        }
      ]
    },
    {
      "cell_type": "code",
      "source": [
        "class operations:\n",
        "  def set_values(self,a,b):\n",
        "    self.a=a\n",
        "    self.b=b\n",
        "  def add(self):\n",
        "    return self.a+self.b\n",
        "  def sub(self):\n",
        "    return self.a-self.b\n",
        "  def mul(self):\n",
        "    return self.a*self.b\n",
        "op=operations()\n",
        "op.set_values(4,5)\n",
        "print(\"summmation:\",op.add())\n",
        "print(\"sub:\",op.sub())\n",
        "print(\"mul:\",op.mul())"
      ],
      "metadata": {
        "colab": {
          "base_uri": "https://localhost:8080/"
        },
        "id": "4q0U-dWrBbXV",
        "outputId": "b618aa21-42dc-47f6-e6a3-e4ff07d3b7a2"
      },
      "execution_count": null,
      "outputs": [
        {
          "output_type": "stream",
          "name": "stdout",
          "text": [
            "summmation: 9\n",
            "sub: -1\n",
            "mul: 20\n"
          ]
        }
      ]
    },
    {
      "cell_type": "code",
      "source": [
        "'''code for calculation the area of a square by creating a calls square and dfening the area and perimeter functions and return the both values to the obj\n",
        "side=4'''\n",
        "class square:\n",
        "  def perimeter(self,a):\n",
        "    return 4*a\n",
        "  def area(self,a):\n",
        "    return a*a\n",
        "s=square()\n",
        "print(s.perimeter(4))\n",
        "print(s.area(4))"
      ],
      "metadata": {
        "colab": {
          "base_uri": "https://localhost:8080/"
        },
        "id": "08rG7SvuEp1t",
        "outputId": "b33734d9-0636-42fd-ded5-15715851d10d"
      },
      "execution_count": null,
      "outputs": [
        {
          "output_type": "stream",
          "name": "stdout",
          "text": [
            "16\n",
            "16\n"
          ]
        }
      ]
    },
    {
      "cell_type": "code",
      "source": [
        "class square:\n",
        "  def sides(self,s):\n",
        "    self.s=s\n",
        "  def perimeter(self):\n",
        "    return 4*self.s\n",
        "  def area(self):\n",
        "    return self.s*self.s\n",
        "s=square()\n",
        "s.sides(4)\n",
        "print(s.perimeter())\n",
        "print(s.area())\n"
      ],
      "metadata": {
        "colab": {
          "base_uri": "https://localhost:8080/"
        },
        "id": "fceKIm4wGfnl",
        "outputId": "7158c935-cb3d-4134-fcca-8c7169651bd1"
      },
      "execution_count": null,
      "outputs": [
        {
          "output_type": "stream",
          "name": "stdout",
          "text": [
            "16\n",
            "16\n"
          ]
        }
      ]
    },
    {
      "cell_type": "code",
      "source": [
        "'''find the hypothesis of pythogorous theorm c=sqrt(a**2+b**2)'''\n",
        "import math\n",
        "class Pythagoras:\n",
        "    def set_values(self, a, b):\n",
        "        self.a = a\n",
        "        self.b = b\n",
        "    def hypothesis(self):\n",
        "        return math.sqrt(self.a ** 2 + self.b ** 2)\n",
        "p = Pythagoras()\n",
        "p.set_values(3, 4)\n",
        "print(p.hypothesis())\n",
        "\n"
      ],
      "metadata": {
        "id": "mH-_T0ZVHZ1E",
        "colab": {
          "base_uri": "https://localhost:8080/"
        },
        "outputId": "9557c7c6-4dd6-40e1-cac1-10cbee04d97e"
      },
      "execution_count": null,
      "outputs": [
        {
          "output_type": "stream",
          "name": "stdout",
          "text": [
            "5.0\n"
          ]
        }
      ]
    },
    {
      "cell_type": "code",
      "source": [
        "class student:\n",
        "  def __init__(self,name,num):\n",
        "    self.name=name\n",
        "    self.num=num\n",
        "  def display(self):\n",
        "    print(f\"Name:{self.name},RollNo:{self.num}\")\n",
        "s1=student('Tony',101)\n",
        "s2=student('Mike',103)\n",
        "s1.display()\n",
        "s2.display()"
      ],
      "metadata": {
        "colab": {
          "base_uri": "https://localhost:8080/"
        },
        "id": "hWeALFQCkbv2",
        "outputId": "03ddc9dd-33e4-43de-b0fb-60e72544fcd3"
      },
      "execution_count": null,
      "outputs": [
        {
          "output_type": "stream",
          "name": "stdout",
          "text": [
            "Name:Tony,RollNo:101\n",
            "Name:Mike,RollNo:103\n"
          ]
        }
      ]
    },
    {
      "cell_type": "code",
      "source": [
        "'''code for calculating the area and perimeter of a rectangle by taking a user defined input as an object and classs as rectangle, return valued to diplay'''\n",
        "class rectangle:\n",
        "  def __init__(self,l,b):\n",
        "    self.l=l\n",
        "    self.b=b\n",
        "  def area(self):\n",
        "    return self.l*self.b\n",
        "  def perimeter(self):\n",
        "    return 2*(self.l+self.b)\n",
        "l=int(input(\"enter the length:\"))\n",
        "b=int(input(\"enter the breadth:\"))\n",
        "r=rectangle(l,b)\n",
        "print(\"Area of Rectangle:\",r.area())\n",
        "print(\"perimetr of rectanglr:\",r.perimeter())"
      ],
      "metadata": {
        "colab": {
          "base_uri": "https://localhost:8080/"
        },
        "id": "wqmDPzMsn2Kn",
        "outputId": "ccefff8b-f71c-412e-d0db-7d92a92dc6a7"
      },
      "execution_count": null,
      "outputs": [
        {
          "output_type": "stream",
          "name": "stdout",
          "text": [
            "enter the length:6\n",
            "enter the breadth:4\n",
            "Area of Rectangle: 24\n",
            "perimetr of rectanglr: 20\n"
          ]
        }
      ]
    },
    {
      "cell_type": "code",
      "source": [
        "#calling a method from another method in a single class\n",
        "class abc():\n",
        "  def __init__(self,var):\n",
        "    self.var=var\n",
        "  def display(self):\n",
        "    print(\"var:\",self.var)\n",
        "  def call(self):\n",
        "    self.var+=1000\n",
        "    self.display()\n",
        "obj=abc(100)\n",
        "obj.call()"
      ],
      "metadata": {
        "colab": {
          "base_uri": "https://localhost:8080/"
        },
        "id": "0hg5cvWysOv-",
        "outputId": "49a7340c-e471-4fee-925e-c5262275752b"
      },
      "execution_count": null,
      "outputs": [
        {
          "output_type": "stream",
          "name": "stdout",
          "text": [
            "var: 1100\n"
          ]
        }
      ]
    },
    {
      "cell_type": "code",
      "source": [
        "#code for a class method to call a function, which is defined in global namespace\n",
        "def globe(x):\n",
        "  return x**10\n",
        "class abc():\n",
        "  def __init__(self,var):\n",
        "    self.var=var\n",
        "  def display(self):\n",
        "    print(\"var:\",self.var)\n",
        "  def modify(self):\n",
        "    self.var=globe(self.var)\n",
        "obj=abc(10)\n",
        "obj.display()\n",
        "obj.modify()\n",
        "obj.display()\n"
      ],
      "metadata": {
        "colab": {
          "base_uri": "https://localhost:8080/"
        },
        "id": "exzm1Aq3u50-",
        "outputId": "4faccb6f-4335-4a20-9d08-0f8bf272917b"
      },
      "execution_count": null,
      "outputs": [
        {
          "output_type": "stream",
          "name": "stdout",
          "text": [
            "var: 10\n",
            "var: 10000000000\n"
          ]
        }
      ]
    },
    {
      "cell_type": "code",
      "source": [
        "'''\n",
        "program that uses class as student to store the name and marks\n",
        "of the student , use a list to store the marks of 3 subjects constraints:\n",
        "1. take class as student\n",
        "2. create a constructor for the student name\n",
        "3. create a function for marks , to be entered manully with in thet class\n",
        "function and add the marks to the list\n",
        "4. display then student name and the marks he/she got\n",
        "5. pass the object's attributes of two stdent names tc :\n",
        "objl:\"vijay\"\n",
        "obj2:\"Anil\"\n",
        "output : vijay got [88, 88, 90]'''\n",
        "\n",
        "class student:\n",
        "  def __init__(self,name):\n",
        "    self.name=name\n",
        "    self.marks=[]\n",
        "  def entermarks(self):\n",
        "    for i in range(3):\n",
        "        m=int(input(\"enter the marks of %s in sibject %d:\"%(self.name,i+1)))\n",
        "        self.marks.append(m)\n",
        "  def display(self):\n",
        "    print(self.name,\"got\", self.marks)\n",
        "s1=student(\"vijay\")\n",
        "s1.entermarks()\n",
        "s2=student(\"krishna\")\n",
        "s2.entermarks()\n",
        "s1.display()\n",
        "s2.display()"
      ],
      "metadata": {
        "colab": {
          "base_uri": "https://localhost:8080/"
        },
        "id": "AMGPmIZC1H_8",
        "outputId": "1a1da0b0-7151-40b7-e92e-61e6eaafee1e"
      },
      "execution_count": null,
      "outputs": [
        {
          "output_type": "stream",
          "name": "stdout",
          "text": [
            "enter the marks of vijay in sibject 1:58\n",
            "enter the marks of vijay in sibject 2:68\n",
            "enter the marks of vijay in sibject 3:35\n",
            "enter the marks of krishna in sibject 1:55\n",
            "enter the marks of krishna in sibject 2:65\n",
            "enter the marks of krishna in sibject 3:55\n",
            "vijay got [58, 68, 35]\n",
            "krishna got [55, 65, 55]\n"
          ]
        }
      ]
    },
    {
      "cell_type": "code",
      "source": [],
      "metadata": {
        "id": "22ZfmMMG92tC"
      },
      "execution_count": null,
      "outputs": []
    }
  ]
}